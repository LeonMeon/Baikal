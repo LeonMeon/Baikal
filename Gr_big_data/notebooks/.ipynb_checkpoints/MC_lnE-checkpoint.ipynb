{
 "cells": [
  {
   "cell_type": "code",
   "execution_count": 1,
   "id": "cd13de8e-f3fb-43a3-9052-59320519febb",
   "metadata": {},
   "outputs": [
    {
     "name": "stdout",
     "output_type": "stream",
     "text": [
      "Parameters amount is  368754\n"
     ]
    }
   ],
   "source": [
    "import matplotlib.pyplot as plt\n",
    "from ..scripts.fits import fit_E\n",
    "#from tqdm import tqdm\n",
    "import torch\n",
    "from models import ResNet\n",
    "device = torch.device('cuda:1') if torch.cuda.is_available else torch.device('cpu')\n",
    "\n",
    "\n",
    "\n",
    "suffix = \"Nu_lnE_ResNet_\"\n",
    "path_begin = \"/home/leonov/Baikal/Gr_big_data\"\n",
    "epochs_num =20\n",
    "\n",
    "model = ResNet(input_size = 5, output_size  = 1, device = device)\n",
    "learn_rate =3e-3\n",
    "opt = torch.optim.Adam(model.parameters(),lr=learn_rate)\n",
    "sch_Exp = torch.optim.lr_scheduler.ExponentialLR(opt, gamma=0.9)\n"
   ]
  },
  {
   "cell_type": "code",
   "execution_count": null,
   "id": "06ec34f8-4a5e-43d6-9da4-91a07f40f5c5",
   "metadata": {},
   "outputs": [
    {
     "name": "stderr",
     "output_type": "stream",
     "text": [
      "  0%|          | 0/20 [00:00<?, ?it/s]"
     ]
    },
    {
     "name": "stdout",
     "output_type": "stream",
     "text": [
      "Indeed Epoch =  1     "
     ]
    },
    {
     "name": "stderr",
     "output_type": "stream",
     "text": [
      "  5%|▌         | 1/20 [14:29<4:35:27, 869.89s/it]"
     ]
    },
    {
     "name": "stdout",
     "output_type": "stream",
     "text": [
      "Indeed Epoch =  2     "
     ]
    },
    {
     "name": "stderr",
     "output_type": "stream",
     "text": [
      " 10%|█         | 2/20 [29:02<4:21:24, 871.36s/it]"
     ]
    },
    {
     "name": "stdout",
     "output_type": "stream",
     "text": [
      "Indeed Epoch =  3     "
     ]
    },
    {
     "name": "stderr",
     "output_type": "stream",
     "text": [
      " 15%|█▌        | 3/20 [43:28<4:06:09, 868.80s/it]"
     ]
    },
    {
     "name": "stdout",
     "output_type": "stream",
     "text": [
      "Indeed Epoch =  4     "
     ]
    },
    {
     "name": "stderr",
     "output_type": "stream",
     "text": [
      " 20%|██        | 4/20 [57:53<3:51:22, 867.67s/it]"
     ]
    },
    {
     "name": "stdout",
     "output_type": "stream",
     "text": [
      "Indeed Epoch =  5     "
     ]
    },
    {
     "name": "stderr",
     "output_type": "stream",
     "text": [
      " 25%|██▌       | 5/20 [1:12:16<3:36:28, 865.93s/it]"
     ]
    },
    {
     "name": "stdout",
     "output_type": "stream",
     "text": [
      "Indeed Epoch =  6     "
     ]
    },
    {
     "name": "stderr",
     "output_type": "stream",
     "text": [
      " 30%|███       | 6/20 [1:26:41<3:21:58, 865.64s/it]"
     ]
    },
    {
     "name": "stdout",
     "output_type": "stream",
     "text": [
      "Indeed Epoch =  7     "
     ]
    }
   ],
   "source": [
    "batch_size = 64\n",
    "\n",
    "big_list = fit_E(\n",
    "        model = model, scheduler_Exp = sch_Exp, optimizer = opt, device = device,\n",
    "        epochs_num = epochs_num, batch_size = batch_size, tr_set_len = 4 * 512 * 100,\n",
    "        criterion = torch.nn.L1Loss(),\n",
    "        save = False,   \n",
    "        suffix = suffix,\n",
    "        path_begin = path_begin)"
   ]
  },
  {
   "cell_type": "code",
   "execution_count": 2,
   "id": "7a74ca6b-3d2c-49dd-850a-9cee91658deb",
   "metadata": {},
   "outputs": [],
   "source": [
    " train_hist, val_hist = big_list[1]"
   ]
  },
  {
   "cell_type": "code",
   "execution_count": 25,
   "id": "cd652aa9-acbb-4de4-809e-bc192bbf16a3",
   "metadata": {},
   "outputs": [
    {
     "data": {
      "text/plain": [
       "1228800"
      ]
     },
     "execution_count": 25,
     "metadata": {},
     "output_type": "execute_result"
    }
   ],
   "source": [
    "sum(train_hist.values())"
   ]
  },
  {
   "cell_type": "code",
   "execution_count": 7,
   "id": "6f19e7e1-a155-422f-bd34-df8843c6b221",
   "metadata": {},
   "outputs": [],
   "source": [
    "import numpy as np\n",
    "name = \"train\"\n",
    "import numpy as np\n",
    "import h5py\n",
    "path_to_h5 =  \"/home/leonov/Baikal/Gr_big_data/mc_baikal_norm_cut-8_ordered_with_MCarlo.h5\""
   ]
  },
  {
   "cell_type": "code",
   "execution_count": 12,
   "id": "84796593-d7da-4990-846c-dc26fefed91e",
   "metadata": {},
   "outputs": [
    {
     "name": "stdout",
     "output_type": "stream",
     "text": [
      "77\n"
     ]
    },
    {
     "data": {
      "image/png": "[encoded data removed]",
      "text/plain": [
       "<Figure size 432x288 with 1 Axes>"
      ]
     },
     "metadata": {
      "needs_background": "light"
     },
     "output_type": "display_data"
    }
   ],
   "source": [
    "\n",
    "inds = np.nonzero(np.array(list(train_hist.values())))\n",
    "summ = sum(train_hist.values()) / 10 * (200/77)\n",
    "first, last = inds[0]/10, inds[-1]/10\n",
    "print(len(inds[0]))\n",
    "plt.bar(list(train_hist.keys()), np.array(list(train_hist.values()))/summ )\n",
    " \n",
    "with h5py.File(path_to_h5, 'r') as hf:\n",
    "    lnE_real = np.log(hf[f\"{name}/ev_chars\"][:,2])\n",
    "    plt.hist(lnE_real , bins = 200, density = True, color = \"blue\", histtype = \"step\", label = f\"{name} lnE real\")"
   ]
  },
  {
   "cell_type": "code",
   "execution_count": null,
   "id": "581bf3c1-423f-46a2-b02d-b226abbe55e9",
   "metadata": {},
   "outputs": [],
   "source": []
  },
  {
   "cell_type": "code",
   "execution_count": 36,
   "id": "7c29cf2b-b73f-47e0-8ac6-d0d7767e3d7a",
   "metadata": {},
   "outputs": [
    {
     "data": {
      "image/png": "[encoded data removed]",
      "text/plain": [
       "<Figure size 432x288 with 1 Axes>"
      ]
     },
     "metadata": {
      "needs_background": "light"
     },
     "output_type": "display_data"
    }
   ],
   "source": []
  },
  {
   "cell_type": "code",
   "execution_count": 9,
   "id": "b7c52776-d0be-4ef9-b425-f2718776b4a5",
   "metadata": {},
   "outputs": [
    {
     "data": {
      "text/plain": [
       "45.0"
      ]
     },
     "execution_count": 9,
     "metadata": {},
     "output_type": "execute_result"
    }
   ],
   "source": [
    "round(45.016, 1)"
   ]
  },
  {
   "cell_type": "code",
   "execution_count": 8,
   "id": "3a5d773c-4ec1-4eb3-8ab9-ba693fefd031",
   "metadata": {},
   "outputs": [],
   "source": [
    "import numpy as np\n",
    "train_lnE, val_lnE = [{round(k,1):0 for k in np.arange(0, 20, 0.1)} for i in range(2)] "
   ]
  },
  {
   "cell_type": "code",
   "execution_count": 11,
   "id": "af3293ff",
   "metadata": {},
   "outputs": [
    {
     "ename": "ValueError",
     "evalue": "only one element tensors can be converted to Python scalars",
     "output_type": "error",
     "traceback": [
      "\u001b[0;31m---------------------------------------------------------------------------\u001b[0m",
      "\u001b[0;31mValueError\u001b[0m                                Traceback (most recent call last)",
      "\u001b[0;32m/tmp/ipykernel_2324425/1796377551.py\u001b[0m in \u001b[0;36m<module>\u001b[0;34m\u001b[0m\n\u001b[0;32m----> 1\u001b[0;31m \u001b[0mtorch\u001b[0m\u001b[0;34m.\u001b[0m\u001b[0mones\u001b[0m\u001b[0;34m(\u001b[0m \u001b[0;34m(\u001b[0m\u001b[0;36m2\u001b[0m\u001b[0;34m,\u001b[0m\u001b[0;36m3\u001b[0m\u001b[0;34m)\u001b[0m\u001b[0;34m)\u001b[0m\u001b[0;34m.\u001b[0m\u001b[0mitem\u001b[0m\u001b[0;34m(\u001b[0m\u001b[0;34m)\u001b[0m\u001b[0;34m\u001b[0m\u001b[0;34m\u001b[0m\u001b[0m\n\u001b[0m\u001b[1;32m      2\u001b[0m \u001b[0;34m\u001b[0m\u001b[0m\n",
      "\u001b[0;31mValueError\u001b[0m: only one element tensors can be converted to Python scalars"
     ]
    }
   ],
   "source": [
    "torch.ones( (2,3)).item()\n",
    "    "
   ]
  },
  {
   "cell_type": "code",
   "execution_count": null,
   "id": "f9d6a024",
   "metadata": {},
   "outputs": [],
   "source": [
    "Skip to content\n",
    "Search or jump to…\n",
    "Pull requests\n",
    "Issues\n",
    "Marketplace\n",
    "Explore\n",
    " \n",
    "@LeonMeon \n",
    "Daniilmipt\n",
    "/\n",
    "advanced-python-homework\n",
    "Public\n",
    "forked from Zelenyy/advanced-python-homework\n",
    "Code\n",
    "Pull requests\n",
    "Actions\n",
    "Projects\n",
    "Security\n",
    "Insights\n",
    "advanced-python-homework/check_assignment_1.py /\n",
    "\n",
    "Mikhal Zelenyy Template for assignment 1\n",
    "Latest commit 6563970 5 days ago\n",
    " History\n",
    " 0 contributors\n",
    "44 lines (34 sloc)  1.17 KB\n",
    "\n",
    "\"\"\"\n",
    "Auto check of assignment 1\n",
    "\"\"\"\n",
    "import os\n",
    "import pathlib\n",
    "from importlib.machinery import SourceFileLoader\n",
    "from subprocess import Popen, PIPE\n",
    "\n",
    "def main():\n",
    "    root = pathlib.Path(\".\")\n",
    "\n",
    "    stem_framework = root / \"stem_framework\"\n",
    "    temperature_monitor = root / \"temperature_monitor\"\n",
    "    assert stem_framework.exists()\n",
    "    assert temperature_monitor.exists()\n",
    "\n",
    "    for path in [stem_framework, temperature_monitor]:\n",
    "        assert (path / \"setup.py\").exists()\n",
    "        assert (path / \"LICENSE\").exists()\n",
    "        assert (path / \"stem\").exists()\n",
    "        assert (path / \"stem\" / \"__init__.py\").exists()\n",
    "\n",
    "    stem = stem_framework / \"stem\"\n",
    "    \n",
    "    for name in [\"core.py\", \"meta.py\", \"task.py\", \"workspace.py\"]:\n",
    "        loader = SourceFileLoader(name[:-3], str(stem/name))\n",
    "        module = loader.load_module()\n",
    "        print(\"\\n\", module.__doc__, \"\\n\")\n",
    "    \n",
    "    os.chdir(stem_framework)\n",
    "\n",
    "    commands = [\n",
    "        [\"pip\", \"install\", \"-e\", \".\"],\n",
    "        [\"python\", \"setup.py\", \"build_sphinx\"]\n",
    "    ]\n",
    "    for command in commands:\n",
    "        with Popen(command, stdout=PIPE, stderr=PIPE) as proc:\n",
    "            outs, errs = proc.communicate()\n",
    "            print(errs)\n",
    "\n",
    "\n",
    "\n",
    "if __name__ == '__main__':\n",
    "    main()\n",
    "Footer\n",
    "© 2022 GitHub, Inc.\n",
    "Footer navigation\n",
    "Terms\n",
    "Privacy\n",
    "Security\n",
    "Status\n",
    "Docs\n",
    "Contact GitHub\n",
    "Pricing\n",
    "API\n",
    "Training\n",
    "Blog\n",
    "About\n"
   ]
  }
 ],
 "metadata": {
  "kernelspec": {
   "display_name": "Python 3 (ipykernel)",
   "language": "python",
   "name": "python3"
  },
  "language_info": {
   "codemirror_mode": {
    "name": "ipython",
    "version": 3
   },
   "file_extension": ".py",
   "mimetype": "text/x-python",
   "name": "python",
   "nbconvert_exporter": "python",
   "pygments_lexer": "ipython3",
   "version": "3.8.12"
  }
 },
 "nbformat": 4,
 "nbformat_minor": 5
}
